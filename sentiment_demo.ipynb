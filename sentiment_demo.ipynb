{
 "cells": [
  {
   "cell_type": "markdown",
   "metadata": {},
   "source": [
    "### Sentiment Analysis ###\n",
    "##### The goal of sentiment analysis is to systematically identify, extract, quantify, and study affective states and subjective information. Sentiment analysis is widely applied to voice of the customer materials such as reviews and survey responses, online and social media, and healthcare materials for applications that range from marketing to customer service to clinical medicine.  #####"
   ]
  },
  {
   "cell_type": "code",
   "execution_count": 24,
   "metadata": {},
   "outputs": [],
   "source": [
    "#hello\n",
    "import numpy as np\n",
    "import pandas as pd\n",
    "from transformers import AutoTokenizer, AutoModelForSequenceClassification\n",
    "from transformers import pipeline"
   ]
  },
  {
   "cell_type": "markdown",
   "metadata": {},
   "source": [
    "#### Base Model ####\n",
    "##### The DistilBERT base model that is used below can be used for masked language modeling or next sentence prediction, although it is mostly intended to be fine-tuned on other downstream task such as sentiment analysis. Here we use the base model to evaluate the sentiment of some text In the next part of the demo we will see how our model improves after being fine-tuned for a specific task. #####"
   ]
  },
  {
   "cell_type": "code",
   "execution_count": 25,
   "metadata": {},
   "outputs": [],
   "source": [
    "class sent_base:\n",
    "    def analyze(text,demo):\n",
    "        if not demo:\n",
    "            text = input('Enter text:')\n",
    "        else:\n",
    "            text = \"Chasing Amy is a clever and engaging urban love story that just exudes with Kevin Smith's gritty humour. The film's examination of sexuality, and everything involved with it, doesn't for one second sound untrue, even when it makes sure that everything being pointed out is expressed frankly and colourfully. It's not everyday we get a story of a heterosexual man falling in love with a homosexual woman, and although the concept could easily have resulted in a disaster of a movie, Chasing Amy manages to layer everything almost flawlessly. There are no predictable pitfalls in this film, and nothing is wrapped up in a neat little package. We are offered a group of characters that are likable but flawed, who don't always get, or give, what we would usually expect. I have to say, I never knew what was going to happen next, it manages to be consistenly offbeat without being unrealistic. Ben Affleck and Joey Lauren Adams have incredible chemistry together, perfectly displaying all the emotional complications a relationship as eccentric as theirs would have. Jason Lee was also outstanding in his role of the vaguely jealous best friend. The only thing that bothered me about this film was there was too much YELLING!! and it was slightly uneven at times. But generally I liked it a lot, and I'm just thankful that Kevin Smith is producing such fine work like this, it is truly a refreshing escape from Hollywood's formulaic sap.\"\n",
    "\n",
    "        #choose the model and tokenizer for task\n",
    "        model_directory = 'cokeoma/distillbert-finetuned-imdb'\n",
    "        tokenizer = AutoTokenizer.from_pretrained(\"distilbert-base-uncased\")\n",
    "        model = AutoModelForSequenceClassification.from_pretrained(\"distilbert-base-uncased\", num_labels=2)\n",
    "\n",
    "        \n",
    "        #creates pipeline for text that will passed through tokenizer and model\n",
    "        clf = pipeline(\"sentiment-analysis\", model=model, tokenizer=tokenizer)\n",
    "        \n",
    "        print('Original text: ')\n",
    "        print(text)\n",
    "        \n",
    "        #evaluate sentiment\n",
    "        sentiment = clf(text)\n",
    "        print(sentiment)"
   ]
  },
  {
   "cell_type": "code",
   "execution_count": 26,
   "metadata": {},
   "outputs": [
    {
     "name": "stderr",
     "output_type": "stream",
     "text": [
      "Some weights of the model checkpoint at distilbert-base-uncased were not used when initializing DistilBertForSequenceClassification: ['vocab_layer_norm.bias', 'vocab_transform.bias', 'vocab_projector.bias', 'vocab_layer_norm.weight', 'vocab_transform.weight', 'vocab_projector.weight']\n",
      "- This IS expected if you are initializing DistilBertForSequenceClassification from the checkpoint of a model trained on another task or with another architecture (e.g. initializing a BertForSequenceClassification model from a BertForPreTraining model).\n",
      "- This IS NOT expected if you are initializing DistilBertForSequenceClassification from the checkpoint of a model that you expect to be exactly identical (initializing a BertForSequenceClassification model from a BertForSequenceClassification model).\n",
      "Some weights of DistilBertForSequenceClassification were not initialized from the model checkpoint at distilbert-base-uncased and are newly initialized: ['classifier.bias', 'pre_classifier.weight', 'pre_classifier.bias', 'classifier.weight']\n",
      "You should probably TRAIN this model on a down-stream task to be able to use it for predictions and inference.\n"
     ]
    },
    {
     "name": "stdout",
     "output_type": "stream",
     "text": [
      "Original text: \n",
      "Chasing Amy is a clever and engaging urban love story that just exudes with Kevin Smith's gritty humour. The film's examination of sexuality, and everything involved with it, doesn't for one second sound untrue, even when it makes sure that everything being pointed out is expressed frankly and colourfully. It's not everyday we get a story of a heterosexual man falling in love with a homosexual woman, and although the concept could easily have resulted in a disaster of a movie, Chasing Amy manages to layer everything almost flawlessly. There are no predictable pitfalls in this film, and nothing is wrapped up in a neat little package. We are offered a group of characters that are likable but flawed, who don't always get, or give, what we would usually expect. I have to say, I never knew what was going to happen next, it manages to be consistenly offbeat without being unrealistic. Ben Affleck and Joey Lauren Adams have incredible chemistry together, perfectly displaying all the emotional complications a relationship as eccentric as theirs would have. Jason Lee was also outstanding in his role of the vaguely jealous best friend. The only thing that bothered me about this film was there was too much YELLING!! and it was slightly uneven at times. But generally I liked it a lot, and I'm just thankful that Kevin Smith is producing such fine work like this, it is truly a refreshing escape from Hollywood's formulaic sap.\n",
      "[{'label': 'LABEL_1', 'score': 0.5364254117012024}]\n"
     ]
    }
   ],
   "source": [
    "sent_base().analyze(demo=True)"
   ]
  },
  {
   "cell_type": "markdown",
   "metadata": {},
   "source": [
    "#### Fine-tuned Model ####\n",
    "##### The model below was fine-tuned on a dataset of movie reviews from IMDB. Now that the model is tuned to complete a specific task we will see a drastic improvement in our confidence score. #####"
   ]
  },
  {
   "cell_type": "code",
   "execution_count": 27,
   "metadata": {},
   "outputs": [],
   "source": [
    "class sent_ft:\n",
    "    def analyze(text,demo):\n",
    "        if not demo:\n",
    "            text = input('Enter text:')\n",
    "        else:\n",
    "            text = \"Chasing Amy is a clever and engaging urban love story that just exudes with Kevin Smith's gritty humour. The film's examination of sexuality, and everything involved with it, doesn't for one second sound untrue, even when it makes sure that everything being pointed out is expressed frankly and colourfully. It's not everyday we get a story of a heterosexual man falling in love with a homosexual woman, and although the concept could easily have resulted in a disaster of a movie, Chasing Amy manages to layer everything almost flawlessly. There are no predictable pitfalls in this film, and nothing is wrapped up in a neat little package. We are offered a group of characters that are likable but flawed, who don't always get, or give, what we would usually expect. I have to say, I never knew what was going to happen next, it manages to be consistenly offbeat without being unrealistic. Ben Affleck and Joey Lauren Adams have incredible chemistry together, perfectly displaying all the emotional complications a relationship as eccentric as theirs would have. Jason Lee was also outstanding in his role of the vaguely jealous best friend. The only thing that bothered me about this film was there was too much YELLING!! and it was slightly uneven at times. But generally I liked it a lot, and I'm just thankful that Kevin Smith is producing such fine work like this, it is truly a refreshing escape from Hollywood's formulaic sap.\"\n",
    "\n",
    "        #choose the model and tokenizer for task\n",
    "        model_directory = 'cokeoma/distillbert-finetuned-imdb'\n",
    "        model_tuned = AutoModelForSequenceClassification.from_pretrained(model_directory)\n",
    "        tokenizer_tuned = AutoTokenizer.from_pretrained(model_directory)\n",
    "        \n",
    "        #creates pipeline for text that will passed through tokenizer and model\n",
    "        clf = pipeline(\"sentiment-analysis\", model=model_tuned, tokenizer=tokenizer_tuned)\n",
    "        \n",
    "        print('Original text: ')\n",
    "        print(text)\n",
    "        \n",
    "        #evaluate sentiment\n",
    "        sentiment = clf(text)\n",
    "        print(sentiment)\n",
    "        \n"
   ]
  },
  {
   "cell_type": "code",
   "execution_count": 28,
   "metadata": {},
   "outputs": [
    {
     "name": "stdout",
     "output_type": "stream",
     "text": [
      "Original text: \n",
      "Chasing Amy is a clever and engaging urban love story that just exudes with Kevin Smith's gritty humour. The film's examination of sexuality, and everything involved with it, doesn't for one second sound untrue, even when it makes sure that everything being pointed out is expressed frankly and colourfully. It's not everyday we get a story of a heterosexual man falling in love with a homosexual woman, and although the concept could easily have resulted in a disaster of a movie, Chasing Amy manages to layer everything almost flawlessly. There are no predictable pitfalls in this film, and nothing is wrapped up in a neat little package. We are offered a group of characters that are likable but flawed, who don't always get, or give, what we would usually expect. I have to say, I never knew what was going to happen next, it manages to be consistenly offbeat without being unrealistic. Ben Affleck and Joey Lauren Adams have incredible chemistry together, perfectly displaying all the emotional complications a relationship as eccentric as theirs would have. Jason Lee was also outstanding in his role of the vaguely jealous best friend. The only thing that bothered me about this film was there was too much YELLING!! and it was slightly uneven at times. But generally I liked it a lot, and I'm just thankful that Kevin Smith is producing such fine work like this, it is truly a refreshing escape from Hollywood's formulaic sap.\n",
      "[{'label': 'LABEL_1', 'score': 0.9995543360710144}]\n"
     ]
    }
   ],
   "source": [
    "sent_ft().analyze(demo=True)"
   ]
  }
 ],
 "metadata": {
  "kernelspec": {
   "display_name": "test",
   "language": "python",
   "name": "python3"
  },
  "language_info": {
   "codemirror_mode": {
    "name": "ipython",
    "version": 3
   },
   "file_extension": ".py",
   "mimetype": "text/x-python",
   "name": "python",
   "nbconvert_exporter": "python",
   "pygments_lexer": "ipython3",
   "version": "3.9.13 (main, Aug 25 2022, 23:26:10) \n[GCC 11.2.0]"
  },
  "orig_nbformat": 4,
  "vscode": {
   "interpreter": {
    "hash": "00b67661aefb41f0f3725367f89f73eaa0b390c011ff37d17d07098be1e048ac"
   }
  }
 },
 "nbformat": 4,
 "nbformat_minor": 2
}
